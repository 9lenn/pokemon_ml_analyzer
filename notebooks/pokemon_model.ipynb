{
 "cells": [
  {
   "cell_type": "code",
   "execution_count": null,
   "id": "70009a34",
   "metadata": {},
   "outputs": [],
   "source": [
    "# Import necessary libraries\n",
    "import pandas as pd\n",
    "import numpy as np\n",
    "import matplotlib.pyplot as plt\n",
    "import seaborn as sns\n",
    "from sklearn.model_selection import train_test_split, cross_val_score\n",
    "from sklearn.preprocessing import StandardScaler\n",
    "from sklearn.ensemble import RandomForestClassifier\n",
    "from sklearn.linear_model import LogisticRegression\n",
    "from sklearn.metrics import accuracy_score, precision_score, recall_score, f1_score\n",
    "from sklearn.metrics import confusion_matrix, classification_report, roc_curve, auc\n",
    "from sklearn.pipeline import Pipeline\n",
    "from imblearn.over_sampling import SMOTE"
   ]
  },
  {
   "cell_type": "code",
   "execution_count": null,
   "id": "7200f82a",
   "metadata": {},
   "outputs": [],
   "source": [
    "# Set random seed for reproducibility\n",
    "np.random.seed(42)"
   ]
  },
  {
   "cell_type": "code",
   "execution_count": null,
   "id": "2cc19c88",
   "metadata": {},
   "outputs": [],
   "source": [
    "# Load and prepare the data\n",
    "df = pd.read_csv('../data/pokemon.csv')"
   ]
  },
  {
   "cell_type": "code",
   "execution_count": null,
   "id": "6f4de722",
   "metadata": {},
   "outputs": [],
   "source": [
    "# Feature engineering\n",
    "df['total_stats'] = df[['hp', 'attack', 'defense', 'sp_attack', 'sp_defense', 'speed']].sum(axis=1)\n",
    "df['physical_average'] = df[['attack', 'defense']].mean(axis=1)\n",
    "df['special_average'] = df[['sp_attack', 'sp_defense']].mean(axis=1)"
   ]
  },
  {
   "cell_type": "code",
   "execution_count": null,
   "id": "9980f062",
   "metadata": {},
   "outputs": [],
   "source": [
    "# Prepare features\n",
    "# One-hot encode type1\n",
    "X_type = pd.get_dummies(df['type1'], prefix='type')"
   ]
  },
  {
   "cell_type": "code",
   "execution_count": null,
   "id": "bbe52c75",
   "metadata": {},
   "outputs": [],
   "source": [
    "# Combine numerical features and one-hot encoded type\n",
    "X_numeric = df[['hp', 'attack', 'defense', 'sp_attack', 'sp_defense', 'speed', \n",
    "                'total_stats', 'physical_average', 'special_average']]\n",
    "X = pd.concat([X_numeric, X_type], axis=1)\n",
    "y = df['is_legendary']"
   ]
  },
  {
   "cell_type": "code",
   "execution_count": null,
   "id": "31ff90fc",
   "metadata": {},
   "outputs": [],
   "source": [
    "# Split the data\n",
    "X_train, X_test, y_train, y_test = train_test_split(\n",
    "    X, y, test_size=0.25, random_state=42, stratify=y\n",
    ")"
   ]
  },
  {
   "cell_type": "code",
   "execution_count": null,
   "id": "1d8da091",
   "metadata": {
    "lines_to_next_cell": 1
   },
   "outputs": [],
   "source": [
    "print(\"Training set shape:\", X_train.shape)\n",
    "print(\"Test set shape:\", X_test.shape)\n",
    "print(\"\\nClass distribution in training set:\")\n",
    "print(y_train.value_counts(normalize=True))"
   ]
  },
  {
   "cell_type": "code",
   "execution_count": null,
   "id": "b8e02192",
   "metadata": {
    "lines_to_next_cell": 1
   },
   "outputs": [],
   "source": [
    "def evaluate_model(model, X_train, X_test, y_train, y_test, model_name=\"Model\"):\n",
    "    # Make predictions\n",
    "    y_pred = model.predict(X_test)\n",
    "    y_pred_proba = model.predict_proba(X_test)[:, 1]\n",
    "    \n",
    "    # Print metrics\n",
    "    print(f\"=== {model_name} Performance ===\\n\")\n",
    "    print(\"Classification Report:\")\n",
    "    print(classification_report(y_test, y_pred))\n",
    "    \n",
    "    # Plot confusion matrix\n",
    "    plt.figure(figsize=(8, 6))\n",
    "    cm = confusion_matrix(y_test, y_pred)\n",
    "    sns.heatmap(cm, annot=True, fmt='d', cmap='Blues')\n",
    "    plt.title(f'Confusion Matrix - {model_name}')\n",
    "    plt.ylabel('True Label')\n",
    "    plt.xlabel('Predicted Label')\n",
    "    plt.show()\n",
    "    \n",
    "    # Plot ROC curve\n",
    "    plt.figure(figsize=(8, 6))\n",
    "    fpr, tpr, _ = roc_curve(y_test, y_pred_proba)\n",
    "    roc_auc = auc(fpr, tpr)\n",
    "    plt.plot(fpr, tpr, label=f'ROC curve (AUC = {roc_auc:.2f})')\n",
    "    plt.plot([0, 1], [0, 1], 'k--')\n",
    "    plt.xlabel('False Positive Rate')\n",
    "    plt.ylabel('True Positive Rate')\n",
    "    plt.title(f'ROC Curve - {model_name}')\n",
    "    plt.legend()\n",
    "    plt.show()\n",
    "    \n",
    "    if hasattr(model, 'feature_importances_'):\n",
    "        # Plot feature importances for tree-based models\n",
    "        importances = pd.DataFrame({\n",
    "            'feature': X_train.columns,\n",
    "            'importance': model.feature_importances_\n",
    "        }).sort_values('importance', ascending=False)\n",
    "        \n",
    "        plt.figure(figsize=(10, 6))\n",
    "        sns.barplot(data=importances.head(15), x='importance', y='feature')\n",
    "        plt.title(f'Top 15 Most Important Features - {model_name}')\n",
    "        plt.show()"
   ]
  },
  {
   "cell_type": "code",
   "execution_count": null,
   "id": "026669e5",
   "metadata": {},
   "outputs": [],
   "source": [
    "# 1. Baseline Model - Logistic Regression\n",
    "print(\"Training Logistic Regression...\")\n",
    "lr_pipeline = Pipeline([\n",
    "    ('scaler', StandardScaler()),\n",
    "    ('classifier', LogisticRegression(random_state=42))\n",
    "])"
   ]
  },
  {
   "cell_type": "code",
   "execution_count": null,
   "id": "b63ad9ff",
   "metadata": {},
   "outputs": [],
   "source": [
    "lr_pipeline.fit(X_train, y_train)\n",
    "evaluate_model(lr_pipeline, X_train, X_test, y_train, y_test, \"Logistic Regression\")"
   ]
  },
  {
   "cell_type": "code",
   "execution_count": null,
   "id": "023d9221",
   "metadata": {},
   "outputs": [],
   "source": [
    "# 2. Random Forest with SMOTE for handling class imbalance\n",
    "print(\"Training Random Forest with SMOTE...\")"
   ]
  },
  {
   "cell_type": "code",
   "execution_count": null,
   "id": "50a97e1f",
   "metadata": {},
   "outputs": [],
   "source": [
    "# Apply SMOTE to balance the training data\n",
    "smote = SMOTE(random_state=42)\n",
    "X_train_balanced, y_train_balanced = smote.fit_resample(X_train, y_train)"
   ]
  },
  {
   "cell_type": "code",
   "execution_count": null,
   "id": "393bbd76",
   "metadata": {},
   "outputs": [],
   "source": [
    "rf_pipeline = Pipeline([\n",
    "    ('classifier', RandomForestClassifier(n_estimators=100, random_state=42))\n",
    "])"
   ]
  },
  {
   "cell_type": "code",
   "execution_count": null,
   "id": "f90f3334",
   "metadata": {
    "lines_to_next_cell": 1
   },
   "outputs": [],
   "source": [
    "rf_pipeline.fit(X_train_balanced, y_train_balanced)\n",
    "evaluate_model(rf_pipeline, X_train_balanced, X_test, y_train_balanced, y_test, \"Random Forest with SMOTE\")"
   ]
  },
  {
   "cell_type": "code",
   "execution_count": null,
   "id": "32fe7bb8",
   "metadata": {
    "lines_to_next_cell": 1
   },
   "outputs": [],
   "source": [
    "def predict_legendary(model, pokemon_stats):\n",
    "    \"\"\"Predict if a Pokemon is legendary based on its stats.\n",
    "    \n",
    "    Args:\n",
    "        model: Trained model\n",
    "        pokemon_stats: Dictionary with Pokemon stats\n",
    "    \"\"\"\n",
    "    # Create a DataFrame with the same structure as training data\n",
    "    pokemon_df = pd.DataFrame([pokemon_stats])\n",
    "    \n",
    "    # Add engineered features\n",
    "    pokemon_df['total_stats'] = pokemon_df[['hp', 'attack', 'defense', 'sp_attack', 'sp_defense', 'speed']].sum(axis=1)\n",
    "    pokemon_df['physical_average'] = pokemon_df[['attack', 'defense']].mean(axis=1)\n",
    "    pokemon_df['special_average'] = pokemon_df[['sp_attack', 'sp_defense']].mean(axis=1)\n",
    "    \n",
    "    # One-hot encode type\n",
    "    type_dummies = pd.get_dummies(pokemon_df['type1'], prefix='type')\n",
    "    \n",
    "    # Add missing type columns from training data\n",
    "    for col in X_train.columns:\n",
    "        if col.startswith('type_') and col not in type_dummies.columns:\n",
    "            type_dummies[col] = 0\n",
    "    \n",
    "    # Combine features\n",
    "    features = pd.concat([\n",
    "        pokemon_df[['hp', 'attack', 'defense', 'sp_attack', 'sp_defense', 'speed',\n",
    "                    'total_stats', 'physical_average', 'special_average']],\n",
    "        type_dummies\n",
    "    ], axis=1)\n",
    "    \n",
    "    # Ensure columns are in the same order as training data\n",
    "    features = features[X_train.columns]\n",
    "    \n",
    "    # Make prediction\n",
    "    prediction = model.predict(features)[0]\n",
    "    probability = model.predict_proba(features)[0][1]\n",
    "    \n",
    "    return prediction, probability"
   ]
  },
  {
   "cell_type": "code",
   "execution_count": null,
   "id": "6e7c37ec",
   "metadata": {},
   "outputs": [],
   "source": [
    "# Example usage\n",
    "example_pokemon = {\n",
    "    'hp': 100,\n",
    "    'attack': 150,\n",
    "    'defense': 140,\n",
    "    'sp_attack': 120,\n",
    "    'sp_defense': 100,\n",
    "    'speed': 90,\n",
    "    'type1': 'dragon'\n",
    "}"
   ]
  },
  {
   "cell_type": "code",
   "execution_count": null,
   "id": "2db9056a",
   "metadata": {},
   "outputs": [],
   "source": [
    "is_legendary, legendary_prob = predict_legendary(rf_pipeline, example_pokemon)\n",
    "print(f\"Prediction: {'Legendary' if is_legendary else 'Not Legendary'}\")\n",
    "print(f\"Probability of being legendary: {legendary_prob:.2%}\") "
   ]
  }
 ],
 "metadata": {
  "jupytext": {
   "cell_metadata_filter": "-all",
   "main_language": "python",
   "notebook_metadata_filter": "-all"
  }
 },
 "nbformat": 4,
 "nbformat_minor": 5
}
